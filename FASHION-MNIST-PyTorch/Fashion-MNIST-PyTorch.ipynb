{
  "nbformat": 4,
  "nbformat_minor": 0,
  "metadata": {
    "colab": {
      "name": "pytorch-exercises.ipynb",
      "provenance": [],
      "collapsed_sections": []
    },
    "kernelspec": {
      "name": "python3",
      "display_name": "Python 3"
    }
  },
  "cells": [
    {
      "cell_type": "code",
      "metadata": {
        "id": "wSAC-k3tG2xG",
        "colab_type": "code",
        "colab": {}
      },
      "source": [
        "import torch\n",
        "import numpy as np\n",
        "from torchvision import datasets,transforms\n",
        "import matplotlib.pyplot as plt"
      ],
      "execution_count": 0,
      "outputs": []
    },
    {
      "cell_type": "code",
      "metadata": {
        "id": "6uGM-oc4L49x",
        "colab_type": "code",
        "colab": {}
      },
      "source": [
        "transform = transforms.Compose([transforms.ToTensor()])\n",
        "\n",
        "trainset = datasets.FashionMNIST('F_MNIST_data/',download=True,train=True,transform=transform)\n",
        "trainloader = torch.utils.data.DataLoader(trainset,64,shuffle=True)\n",
        "\n",
        "testset = datasets.FashionMNIST('F_MNIST_data/',download=True,train=False,transform=transform)\n",
        "testloader = torch.utils.data.DataLoader(testset,64,shuffle=True)"
      ],
      "execution_count": 0,
      "outputs": []
    },
    {
      "cell_type": "code",
      "metadata": {
        "id": "FTtlW5iHNLOZ",
        "colab_type": "code",
        "colab": {}
      },
      "source": [
        "images,labels = next(iter(trainloader))"
      ],
      "execution_count": 0,
      "outputs": []
    },
    {
      "cell_type": "code",
      "metadata": {
        "id": "aTYMga9xN_n_",
        "colab_type": "code",
        "colab": {
          "base_uri": "https://localhost:8080/",
          "height": 284
        },
        "outputId": "653d86ed-0d48-4697-c069-835d2c981c46"
      },
      "source": [
        "plt.imshow(images[10].numpy().squeeze(),cmap='gray')"
      ],
      "execution_count": 4,
      "outputs": [
        {
          "output_type": "execute_result",
          "data": {
            "text/plain": [
              "<matplotlib.image.AxesImage at 0x7fc27f1f14e0>"
            ]
          },
          "metadata": {
            "tags": []
          },
          "execution_count": 4
        },
        {
          "output_type": "display_data",
          "data": {
            "image/png": "[encoded data removed]",
            "text/plain": [
              "<Figure size 432x288 with 1 Axes>"
            ]
          },
          "metadata": {
            "tags": [],
            "needs_background": "light"
          }
        }
      ]
    },
    {
      "cell_type": "code",
      "metadata": {
        "id": "e6sDKKFWPA0n",
        "colab_type": "code",
        "colab": {}
      },
      "source": [
        "from torch import nn\n",
        "from torch import optim\n",
        "import torch.nn.functional as F"
      ],
      "execution_count": 0,
      "outputs": []
    },
    {
      "cell_type": "code",
      "metadata": {
        "id": "K9_kjmeGQPgl",
        "colab_type": "code",
        "colab": {}
      },
      "source": [
        "class Network(nn.Module):\n",
        "  def __init__(self):\n",
        "    super().__init__()\n",
        "    self.fc1 = nn.Linear(784,256)\n",
        "    #self.drop1 = nn.Dropout(p=0.3)\n",
        "    self.fc2 = nn.Linear(256,128)\n",
        "    self.fc3 = nn.Linear(128,64)\n",
        "    self.fc4 = nn.Linear(64,10)\n",
        "\n",
        "  def forward(self,x):\n",
        "    x = self.fc1(x)\n",
        "    x = F.relu(x)\n",
        "    #x = self.drop1(x)\n",
        "    x = self.fc2(x)\n",
        "    x = F.relu(x)\n",
        "    x = self.fc3(x)\n",
        "    x = F.relu(x)\n",
        "    x = self.fc4(x)\n",
        "\n",
        "    return x"
      ],
      "execution_count": 0,
      "outputs": []
    },
    {
      "cell_type": "code",
      "metadata": {
        "id": "E03P_uOad7iV",
        "colab_type": "code",
        "colab": {}
      },
      "source": [
        "model = Network()\n",
        "criterion = nn.CrossEntropyLoss()\n",
        "optimizer = optim.Adam(model.parameters(),lr=0.003)"
      ],
      "execution_count": 0,
      "outputs": []
    },
    {
      "cell_type": "code",
      "metadata": {
        "id": "CJLTKt9Py62Q",
        "colab_type": "code",
        "colab": {
          "base_uri": "https://localhost:8080/",
          "height": 131
        },
        "outputId": "1d68da86-e7ae-458f-f033-3d87ce9ad4eb"
      },
      "source": [
        "model"
      ],
      "execution_count": 18,
      "outputs": [
        {
          "output_type": "execute_result",
          "data": {
            "text/plain": [
              "Network(\n",
              "  (fc1): Linear(in_features=784, out_features=256, bias=True)\n",
              "  (fc2): Linear(in_features=256, out_features=128, bias=True)\n",
              "  (fc3): Linear(in_features=128, out_features=64, bias=True)\n",
              "  (fc4): Linear(in_features=64, out_features=10, bias=True)\n",
              ")"
            ]
          },
          "metadata": {
            "tags": []
          },
          "execution_count": 18
        }
      ]
    },
    {
      "cell_type": "code",
      "metadata": {
        "id": "f5FjmLEzeTI9",
        "colab_type": "code",
        "colab": {}
      },
      "source": [
        "epochs = 5\n",
        "steps=0\n",
        "for e in range(epochs):\n",
        "      running_loss = 0\n",
        "      for images,labels in iter(trainloader):\n",
        "        steps+=1\n",
        "        images.resize_(images.size(0),784)\n",
        "        optimizer.zero_grad()\n",
        "\n",
        "        pred = model.forward(images)\n",
        "        loss = criterion(pred,labels)\n",
        "        loss.backward()\n",
        "        optimizer.step()\n",
        "\n",
        "        running_loss += loss.item()\n",
        "\n",
        "        if (steps%50==0):\n",
        "          print(\"Epoch:{}\".format(e))\n",
        "          print(\"Loss: {:.4f}\".format(running_loss/40))\n",
        "          running_loss = 0\n",
        "\n"
      ],
      "execution_count": 0,
      "outputs": []
    },
    {
      "cell_type": "code",
      "metadata": {
        "id": "sMqxf_a3ozNm",
        "colab_type": "code",
        "colab": {}
      },
      "source": [
        "testloader = torch.utils.data.DataLoader(testset,shuffle=True)"
      ],
      "execution_count": 0,
      "outputs": []
    },
    {
      "cell_type": "code",
      "metadata": {
        "id": "SJfCBmv5vMrr",
        "colab_type": "code",
        "colab": {
          "base_uri": "https://localhost:8080/",
          "height": 284
        },
        "outputId": "23f8c4f4-9e68-499e-d5da-55397cad3b93"
      },
      "source": [
        "image,label = next(iter(testloader))\n",
        "image.resize_(1,784)\n",
        "with torch.no_grad():\n",
        "    logits = model.forward(image)\n",
        "\n",
        "preds = F.softmax(logits,dim=1)\n",
        "prediction = preds.numpy().argmax()\n",
        "plt.imshow(image.resize_(28,28),cmap='gray')\n",
        "print(\"True Label {} ..... Predicted Label {}\".format(int(label),prediction))"
      ],
      "execution_count": 27,
      "outputs": [
        {
          "output_type": "stream",
          "text": [
            "True Label 3 ..... Predicted Label 3\n"
          ],
          "name": "stdout"
        },
        {
          "output_type": "display_data",
          "data": {
            "image/png": "[encoded data removed]",
            "text/plain": [
              "<Figure size 432x288 with 1 Axes>"
            ]
          },
          "metadata": {
            "tags": [],
            "needs_background": "light"
          }
        }
      ]
    },
    {
      "cell_type": "code",
      "metadata": {
        "id": "zLyWyUMIf2v_",
        "colab_type": "code",
        "colab": {
          "base_uri": "https://localhost:8080/",
          "height": 74
        },
        "outputId": "1a3b0fb7-27e4-44b0-bb14-39a84b846b9f"
      },
      "source": [
        "wrong = 0\n",
        "total = 0\n",
        "for image,label in iter(testloader):\n",
        "  total += 1\n",
        "  image.resize_(1,784)\n",
        "  with torch.no_grad():\n",
        "    logits = model.forward(image)\n",
        "\n",
        "  preds = F.softmax(logits,dim=1)\n",
        "  prediction = preds.numpy().argmax()\n",
        "  if (prediction != int(label)):\n",
        "    wrong +=1\n",
        "acc = ((total-wrong)/total)\n",
        "print(wrong)\n",
        "print(total)\n",
        "print(\"Accuracy is {:.3f}\".format(acc))"
      ],
      "execution_count": 28,
      "outputs": [
        {
          "output_type": "stream",
          "text": [
            "1141\n",
            "10000\n",
            "Accuracy is 0.886\n"
          ],
          "name": "stdout"
        }
      ]
    },
    {
      "cell_type": "code",
      "metadata": {
        "id": "JC0nHzJGwfMC",
        "colab_type": "code",
        "colab": {}
      },
      "source": [
        "trainloader_copy = torch.utils.data.DataLoader(trainset,shuffle=True)"
      ],
      "execution_count": 0,
      "outputs": []
    },
    {
      "cell_type": "code",
      "metadata": {
        "id": "UT5iNmJDwcGm",
        "colab_type": "code",
        "colab": {
          "base_uri": "https://localhost:8080/",
          "height": 74
        },
        "outputId": "ac6814e8-8626-40c2-f19d-615f72e2f5d4"
      },
      "source": [
        "wrong = 0\n",
        "total = 0\n",
        "for image,label in iter(trainloader_copy):\n",
        "  total += 1\n",
        "  image.resize_(1,784)\n",
        "  with torch.no_grad():\n",
        "    logits = model.forward(image)\n",
        "\n",
        "  preds = F.softmax(logits,dim=1)\n",
        "  prediction = preds.numpy().argmax()\n",
        "  if (prediction != int(label)):\n",
        "    wrong +=1\n",
        "acc = ((total-wrong)/total)\n",
        "print(wrong)\n",
        "print(total)\n",
        "print(\"Accuracy is {:.3f}\".format(acc))"
      ],
      "execution_count": 25,
      "outputs": [
        {
          "output_type": "stream",
          "text": [
            "4354\n",
            "60000\n",
            "Accuracy is 0.927\n"
          ],
          "name": "stdout"
        }
      ]
    },
    {
      "cell_type": "code",
      "metadata": {
        "id": "6kUT2PyPwr3F",
        "colab_type": "code",
        "colab": {}
      },
      "source": [
        ""
      ],
      "execution_count": 0,
      "outputs": []
    }
  ]
}